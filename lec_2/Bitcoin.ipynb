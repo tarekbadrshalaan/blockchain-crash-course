{
 "cells": [
  {
   "cell_type": "code",
   "execution_count": 1,
   "metadata": {},
   "outputs": [],
   "source": [
    "import bitcoin \n",
    "from bitcoin import *\n",
    "import json\n",
    "from pprint import pprint"
   ]
  },
  {
   "cell_type": "code",
   "execution_count": 2,
   "metadata": {},
   "outputs": [
    {
     "name": "stdout",
     "output_type": "stream",
     "text": [
      "9f86d081884c7d659a2feaa0c55ad015a3bf4f1b2b0b822cd15d6c15b0f00a08\n"
     ]
    }
   ],
   "source": [
    "priv1 = sha256('test')\n",
    "print(priv1)"
   ]
  },
  {
   "cell_type": "code",
   "execution_count": 3,
   "metadata": {},
   "outputs": [
    {
     "name": "stdout",
     "output_type": "stream",
     "text": [
      "045f81956d5826bad7d30daed2b5c8c98e72046c1ec8323da336445476183fb7ca54ba511b8b782bc5085962412e8b9879496e3b60bebee7c36987d1d5848b9a50\n"
     ]
    }
   ],
   "source": [
    "pub1 = privtopub(priv1)\n",
    "print(pub1)"
   ]
  },
  {
   "cell_type": "code",
   "execution_count": 4,
   "metadata": {},
   "outputs": [
    {
     "name": "stdout",
     "output_type": "stream",
     "text": [
      "1HKqKTMpBTZZ8H5zcqYEWYBaaWELrDEXeE\n"
     ]
    }
   ],
   "source": [
    "addr1 = pubtoaddr(pub1) \n",
    "print(addr1)"
   ]
  },
  {
   "cell_type": "code",
   "execution_count": null,
   "metadata": {},
   "outputs": [],
   "source": []
  },
  {
   "cell_type": "code",
   "execution_count": null,
   "metadata": {},
   "outputs": [],
   "source": []
  },
  {
   "cell_type": "code",
   "execution_count": null,
   "metadata": {},
   "outputs": [],
   "source": []
  },
  {
   "cell_type": "code",
   "execution_count": null,
   "metadata": {},
   "outputs": [],
   "source": []
  },
  {
   "cell_type": "code",
   "execution_count": 5,
   "metadata": {},
   "outputs": [
    {
     "name": "stderr",
     "output_type": "stream",
     "text": [
      "Fetching more transactions... 50\n"
     ]
    },
    {
     "data": {
      "text/plain": [
       "{'ins': [{'outpoint': {'hash': '4adc427d330497992710feaa32f85c389ef5106f74e7006878bd14b54500dfff',\n",
       "    'index': 0},\n",
       "   'script': '',\n",
       "   'sequence': 4294967295}],\n",
       " 'locktime': 0,\n",
       " 'outs': [{'script': '76a914409974e18f8a8bd70940a71124a46c8169089fa188ac',\n",
       "   'value': 100}],\n",
       " 'version': 1}"
      ]
     },
     "execution_count": 5,
     "metadata": {},
     "output_type": "execute_result"
    }
   ],
   "source": [
    "out1 = [{'value': 100,'address': '16ta5dKybYYm3g9v6wxV82qVbKsafQkvsp'}]   \n",
    "h1 = history(addr1) \n",
    "tx = mktx(h1[0],out1)  \n",
    "bitcoin.deserialize(tx)"
   ]
  },
  {
   "cell_type": "code",
   "execution_count": 6,
   "metadata": {},
   "outputs": [
    {
     "data": {
      "text/plain": [
       "{'ins': [{'outpoint': {'hash': '4adc427d330497992710feaa32f85c389ef5106f74e7006878bd14b54500dfff',\n",
       "    'index': 0},\n",
       "   'script': '483045022100b30d07d5851f5217ebcece48e0a5482ef0da1f4fea0eb549f34f69647717786f02201a11c6378237a52933a8bfc853049a0a28820b2e4f1be92fc6c0ad701182b0940141045f81956d5826bad7d30daed2b5c8c98e72046c1ec8323da336445476183fb7ca54ba511b8b782bc5085962412e8b9879496e3b60bebee7c36987d1d5848b9a50',\n",
       "   'sequence': 4294967295}],\n",
       " 'locktime': 0,\n",
       " 'outs': [{'script': '76a914409974e18f8a8bd70940a71124a46c8169089fa188ac',\n",
       "   'value': 100}],\n",
       " 'version': 1}"
      ]
     },
     "execution_count": 6,
     "metadata": {},
     "output_type": "execute_result"
    }
   ],
   "source": [
    "bitcoin.deserialize(bitcoin.sign(tx, 0, priv1))"
   ]
  },
  {
   "cell_type": "code",
   "execution_count": null,
   "metadata": {},
   "outputs": [],
   "source": []
  },
  {
   "cell_type": "code",
   "execution_count": null,
   "metadata": {},
   "outputs": [],
   "source": []
  }
 ],
 "metadata": {
  "kernelspec": {
   "display_name": "Python 3",
   "language": "python",
   "name": "python3"
  },
  "language_info": {
   "codemirror_mode": {
    "name": "ipython",
    "version": 3
   },
   "file_extension": ".py",
   "mimetype": "text/x-python",
   "name": "python",
   "nbconvert_exporter": "python",
   "pygments_lexer": "ipython3",
   "version": "3.6.4"
  }
 },
 "nbformat": 4,
 "nbformat_minor": 2
}
